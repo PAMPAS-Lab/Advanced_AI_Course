{
 "cells": [
  {
   "cell_type": "code",
   "execution_count": 7,
   "metadata": {},
   "outputs": [
    {
     "name": "stdout",
     "output_type": "stream",
     "text": [
      "tensor([[1., 0., 1., 0.],\n",
      "        [0., 2., 0., 2.],\n",
      "        [1., 1., 1., 1.]])\n"
     ]
    }
   ],
   "source": [
    "import torch\n",
    "from torch.nn.functional import softmax\n",
    "\n",
    "# 输入数据 x，包含3个输入向量，每个向量有4个维度\n",
    "x = [\n",
    "    [1, 0, 1, 0],  # 输入向量1\n",
    "    [0, 2, 0, 2],  # 输入向量2\n",
    "    [1, 1, 1, 1]   # 输入向量3\n",
    "]\n",
    "# 将输入数据转换为 PyTorch 张量，并设置数据类型为 float32\n",
    "x = torch.tensor(x, dtype=torch.float32)\n",
    "print(x)"
   ]
  },
  {
   "cell_type": "code",
   "execution_count": 8,
   "metadata": {},
   "outputs": [
    {
     "name": "stdout",
     "output_type": "stream",
     "text": [
      "w_key: \n",
      " tensor([[0., 0., 1.],\n",
      "        [1., 1., 0.],\n",
      "        [0., 1., 0.],\n",
      "        [1., 1., 0.]])\n",
      "w_query: \n",
      " tensor([[1., 0., 1.],\n",
      "        [1., 0., 0.],\n",
      "        [0., 0., 1.],\n",
      "        [0., 1., 1.]])\n",
      "w_value: \n",
      " tensor([[0., 2., 0.],\n",
      "        [0., 3., 0.],\n",
      "        [1., 0., 3.],\n",
      "        [1., 1., 0.]])\n"
     ]
    }
   ],
   "source": [
    "# 定义键（Key）的权重矩阵，形状为 (4, 3)\n",
    "w_key = [\n",
    "    [0, 0, 1],\n",
    "    [1, 1, 0],\n",
    "    [0, 1, 0],\n",
    "    [1, 1, 0]\n",
    "]\n",
    "# 定义查询（Query）的权重矩阵，形状为 (4, 3)\n",
    "w_query = [\n",
    "    [1, 0, 1],\n",
    "    [1, 0, 0],\n",
    "    [0, 0, 1],\n",
    "    [0, 1, 1]\n",
    "]\n",
    "# 定义值（Value）的权重矩阵，形状为 (4, 3)\n",
    "w_value = [\n",
    "    [0, 2, 0],\n",
    "    [0, 3, 0],\n",
    "    [1, 0, 3],\n",
    "    [1, 1, 0]\n",
    "]\n",
    "\n",
    "# 将权重矩阵转换为 PyTorch 张量，并设置数据类型为 float32\n",
    "w_key = torch.tensor(w_key, dtype=torch.float32)\n",
    "w_query = torch.tensor(w_query, dtype=torch.float32)\n",
    "w_value = torch.tensor(w_value, dtype=torch.float32)\n",
    "\n",
    "# 打印权重矩阵以供检查\n",
    "print(\"w_key: \\n\", w_key)\n",
    "print(\"w_query: \\n\", w_query)\n",
    "print(\"w_value: \\n\", w_value)"
   ]
  },
  {
   "cell_type": "code",
   "execution_count": 9,
   "metadata": {},
   "outputs": [
    {
     "name": "stdout",
     "output_type": "stream",
     "text": [
      "Keys: \n",
      " tensor([[0., 1., 1.],\n",
      "        [4., 4., 0.],\n",
      "        [2., 3., 1.]])\n",
      "Querys: \n",
      " tensor([[1., 0., 2.],\n",
      "        [2., 2., 2.],\n",
      "        [2., 1., 3.]])\n",
      "Values: \n",
      " tensor([[1., 2., 3.],\n",
      "        [2., 8., 0.],\n",
      "        [2., 6., 3.]])\n"
     ]
    }
   ],
   "source": [
    "# 计算 Keys: 将输入 x 与键的权重矩阵相乘，生成键向量\n",
    "keys = x @ w_key\n",
    "# 计算 Queries: 将输入 x 与查询的权重矩阵相乘，生成查询向量\n",
    "querys =x @  w_query\n",
    "# 计算 Values: 将输入 x 与值的权重矩阵相乘，生成值向量\n",
    "values =x @  w_value\n",
    "\n",
    "# 打印键、查询和值向量以供检查\n",
    "print(\"Keys: \\n\", keys)\n",
    "print(\"Querys: \\n\", querys)\n",
    "print(\"Values: \\n\", values)"
   ]
  },
  {
   "cell_type": "code",
   "execution_count": null,
   "metadata": {},
   "outputs": [
    {
     "name": "stdout",
     "output_type": "stream",
     "text": [
      "Attention Scores: \n",
      " tensor([[ 2.,  4.,  4.],\n",
      "        [ 4., 16., 12.],\n",
      "        [ 4., 12., 10.]])\n"
     ]
    }
   ],
   "source": [
    "# 计算注意力分数（Attention Scores）：通过键和查询向量的点积计算\n",
    "# 结果是一个 (3, 3) 的矩阵，其中每个元素表示查询和键之间的相似度\n",
    "attn_scores = querys @ keys.T\n",
    "print(\"Attention Scores: \\n\", attn_scores)"
   ]
  },
  {
   "cell_type": "code",
   "execution_count": null,
   "metadata": {},
   "outputs": [
    {
     "name": "stdout",
     "output_type": "stream",
     "text": [
      "Attention Scores Softmax: \n",
      " tensor([[6.3379e-02, 4.6831e-01, 4.6831e-01],\n",
      "        [6.0337e-06, 9.8201e-01, 1.7986e-02],\n",
      "        [2.9539e-04, 8.8054e-01, 1.1917e-01]])\n"
     ]
    }
   ],
   "source": [
    "# 对注意力分数应用 Softmax 函数，将其转换为概率分布\n",
    "# Softmax 处理后的矩阵形状仍为 (3, 3)，表示每个查询对所有键的关注度\n",
    "attn_scores_softmax = softmax(attn_scores, dim=-1)\n",
    "print(\"Attention Scores Softmax: \\n\", attn_scores_softmax)"
   ]
  },
  {
   "cell_type": "code",
   "execution_count": 14,
   "metadata": {},
   "outputs": [
    {
     "name": "stdout",
     "output_type": "stream",
     "text": [
      "output: \n",
      " tensor([[1.9366, 6.6831, 1.5951],\n",
      "        [2.0000, 7.9640, 0.0540],\n",
      "        [1.9997, 7.7599, 0.3584]])\n"
     ]
    }
   ],
   "source": [
    "# 计算加权后的输出值：将值向量与注意力分数进行加权求和\n",
    "# 结果是一个形状为 (3, 3) 的矩阵，表示经过注意力加权后的最终输出\n",
    "output = attn_scores_softmax @ values\n",
    "print(\"output: \\n\", output)"
   ]
  },
  {
   "cell_type": "code",
   "execution_count": null,
   "metadata": {},
   "outputs": [],
   "source": []
  }
 ],
 "metadata": {
  "kernelspec": {
   "display_name": "PyTorch",
   "language": "python",
   "name": "python3"
  },
  "language_info": {
   "codemirror_mode": {
    "name": "ipython",
    "version": 3
   },
   "file_extension": ".py",
   "mimetype": "text/x-python",
   "name": "python",
   "nbconvert_exporter": "python",
   "pygments_lexer": "ipython3",
   "version": "3.8.18"
  }
 },
 "nbformat": 4,
 "nbformat_minor": 2
}
